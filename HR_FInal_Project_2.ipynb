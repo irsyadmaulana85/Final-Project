{
  "nbformat": 4,
  "nbformat_minor": 0,
  "metadata": {
    "colab": {
      "name": "HR FInal Project 2.ipynb",
      "provenance": [],
      "collapsed_sections": [
        "ucxtE2JoWksC",
        "m7qukg9eWxTh",
        "wCc1qSbcW1kE",
        "Gm-qMDuEXZzI"
      ],
      "toc_visible": true
    },
    "kernelspec": {
      "name": "python3",
      "display_name": "Python 3"
    },
    "language_info": {
      "name": "python"
    }
  },
  "cells": [
    {
      "cell_type": "markdown",
      "source": [
        "# HUMAN RESOURCES DEPARTMENT PYTHON"
      ],
      "metadata": {
        "id": "HMdi_iT8WSIU"
      }
    },
    {
      "cell_type": "markdown",
      "source": [
        "## Business Understanding"
      ],
      "metadata": {
        "id": "ucxtE2JoWksC"
      }
    },
    {
      "cell_type": "markdown",
      "source": [
        "## **About**\n",
        "\n",
        "The Look is a company based on United States, with the purpose of prodiving the best quality both products and services in swim equipment and wearable product.\n",
        "\n",
        "**Human Resources**\n",
        "\n",
        "Is the department that gathered the data of our human resources and distribution product accros the state."
      ],
      "metadata": {
        "id": "t6E9DxSTWloz"
      }
    },
    {
      "cell_type": "markdown",
      "source": [
        "## Data Understanding"
      ],
      "metadata": {
        "id": "m7qukg9eWxTh"
      }
    },
    {
      "cell_type": "markdown",
      "source": [
        "### Libraries"
      ],
      "metadata": {
        "id": "wCc1qSbcW1kE"
      }
    },
    {
      "cell_type": "code",
      "source": [
        "import pandas as pd                   # Alias digunakan untuk mempermudah kita memanggil software library dan methods didalamnya\n",
        "import numpy as np                    # Numpy adalah paket dasar untuk komputasi ilmiah di python\n",
        "from math import sqrt                 # memanggil function sqrt, operasi matematika akar\n",
        "from pandas import Series             # function Series seperti aray 1 dimensi (dengan axis sebagai index) untuk menyimpan berbagai\n",
        "                                      #tipe data, seperti integer, string, float, python objects, etc.\n",
        "\n",
        "from matplotlib import pyplot         # pyplot adalah sekumpulan fungsi dari matplotlib yang membuatnya bekerja seperti halnya MATLAB.\n",
        "from matplotlib.pyplot import figure  # figure memberikan identifier unik untuk sebuah gambar grafik dari pyplot\n",
        "import matplotlib.pyplot as plt       # matplotlib adalah library komprehensif untuk membuat visualisasi statis, animasi, maupun interaktif di Python\n",
        "figure(num=None, figsize=(16, 12), dpi=80, facecolor='w', edgecolor='k') # menetapkan format gambar grafik dg ukuran (16,12), dpi=80, facecolor=white, edgecolor=black\n",
        "from matplotlib.pylab import rcParams # rc (runtime configuration) parameters, untuk merubah tampilan visual output matplotlib secara interaktif, \n",
        "                                      # (misal ubah warna, jenis garis untuk grafik dll)\n",
        "\n",
        "import statsmodels.api as sm          # modul berisikan classes dan functions digunakan untuk estimasi model-model statistik, uji tes statistik, dan eksplorasi data.\n",
        "import statsmodels.tsa.api as smt     # digunakan untuk mengakses Time-series models dan methods pd librari statsmodels\n",
        "from statsmodels.tsa.holtwinters import ExponentialSmoothing, SimpleExpSmoothing, Holt  # mengakses 3 modul holt-winters di modul time series analysis\n",
        "from statsmodels.tsa.seasonal import seasonal_decompose #mengakses modul seasonal decompose pada modul time series analysis\n",
        "from statsmodels.tsa.stattools import adfuller # mengakses function Augmented Dickey-Fuller unit root test. \n",
        "from statsmodels.tsa.arima_model import ARIMA  # mengakses function ARIMA\n",
        "import statsmodels.formula.api as smf # digunakan untuk menentukan model dengan formula strings dan DataFrames.\n",
        "from sklearn.metrics import mean_absolute_error, mean_absolute_percentage_error, mean_squared_error \n",
        "\n",
        "from datetime import datetime         \n",
        "import warnings                       # built-in modul untuk menghandle message dari issue warning, jika ada package yg obsolete\n",
        "warnings.filterwarnings('ignore')     # filter untuk mengabaikan tipe warning\n",
        "import sys                            # mengakses built-in function pada Python (args maupun keyword-args)\n",
        "import itertools                      # digunakan iterasi pada struktur data yang dapat ditulis ulang menggunakan for-loop. \n",
        "                                      # Struktur data seperrti ini juga dikenal sebagai iterables\n",
        "import seaborn as sns                 # Adalah library visualisasi data di Python yg berdasarkan matplotlib\n",
        "%matplotlib inline   \n",
        "\n",
        "import matplotlib.dates as mdates\n",
        "import matplotlib.pyplot as plty\n",
        "\n",
        "from sklearn.cluster import KMeans, MiniBatchKMeans\n",
        "from sklearn.metrics import silhouette_score\n",
        "from sklearn.preprocessing import StandardScaler, OneHotEncoder"
      ],
      "metadata": {
        "id": "cWP5s4NcW1_l"
      },
      "execution_count": 47,
      "outputs": []
    },
    {
      "cell_type": "markdown",
      "source": [
        "## Data Loading and Exploration"
      ],
      "metadata": {
        "id": "A0r2n9W3XAaV"
      }
    },
    {
      "cell_type": "code",
      "source": [
        "data = pd.read_csv('/content/HR 2.csv')\n",
        "data"
      ],
      "metadata": {
        "colab": {
          "base_uri": "https://localhost:8080/",
          "height": 468
        },
        "id": "LQaLx-dnXA21",
        "outputId": "c0127db1-aad1-444e-cddf-dbe7f757415a"
      },
      "execution_count": 46,
      "outputs": [
        {
          "output_type": "execute_result",
          "data": {
            "text/plain": [
              "     nama_depan nama_belakang     nama_lengkap       umur  age jenis_kelamin  \\\n",
              "0     Gutierrez         Molly   MollyGutierrez  32.028816   32             F   \n",
              "1      Hardwick       Stephen  StephenHardwick  40.320902   40             M   \n",
              "2       Delgado       Chester   ChesterDelgado  48.822047   49             M   \n",
              "3         Simon         Irene       IreneSimon  44.599357   45             F   \n",
              "4      Delvalle        Edward   EdwardDelvalle  35.697876   36             M   \n",
              "...         ...           ...              ...        ...  ...           ...   \n",
              "8331   Coniglio        Bianca   BiancaConiglio  46.057544   46             F   \n",
              "8332        Cox        Jimmie        JimmieCox  34.455490   34             M   \n",
              "8333    Hawkins          Mary      MaryHawkins  58.347160   58             F   \n",
              "8334    Proctor       Theresa   TheresaProctor  43.340616   43             F   \n",
              "8335     Salter       Charles    CharlesSalter  46.192782   46             M   \n",
              "\n",
              "      lama_jam_absen  lama_pegawai_kerja  latitude  longitude  id_state  \\\n",
              "0          36.577306            6.018478   29.9500   -90.0667         5   \n",
              "1          30.165072            5.532445   32.7833   -79.9333         9   \n",
              "2          83.807798            4.389973   32.0167   -81.1167        10   \n",
              "3          70.020165            3.081736   41.8369   -87.6847         2   \n",
              "4           0.000000            3.619091   34.0500  -118.2500         4   \n",
              "...              ...                 ...       ...        ...       ...   \n",
              "8331       93.665111            4.838288   32.7833   -79.9333         9   \n",
              "8332        0.000000            2.427274   35.1174   -89.9711         1   \n",
              "8333      176.356940            4.009393   32.7833   -79.9333         9   \n",
              "8334       60.321917            6.154837   39.9500   -75.1667         7   \n",
              "8335      112.023389            5.174722   41.8369   -87.6847         2   \n",
              "\n",
              "           nama_state  \n",
              "0      New Orleans LA  \n",
              "1       Charleston SC  \n",
              "2         Savannah GA  \n",
              "3          Chicago IL  \n",
              "4      Los Angeles CA  \n",
              "...               ...  \n",
              "8331    Charleston SC  \n",
              "8332       Memphis TN  \n",
              "8333    Charleston SC  \n",
              "8334  Philadelphia PA  \n",
              "8335       Chicago IL  \n",
              "\n",
              "[8336 rows x 12 columns]"
            ],
            "text/html": [
              "\n",
              "  <div id=\"df-bec76aa1-c30d-4c87-a50f-da38f347c0b0\">\n",
              "    <div class=\"colab-df-container\">\n",
              "      <div>\n",
              "<style scoped>\n",
              "    .dataframe tbody tr th:only-of-type {\n",
              "        vertical-align: middle;\n",
              "    }\n",
              "\n",
              "    .dataframe tbody tr th {\n",
              "        vertical-align: top;\n",
              "    }\n",
              "\n",
              "    .dataframe thead th {\n",
              "        text-align: right;\n",
              "    }\n",
              "</style>\n",
              "<table border=\"1\" class=\"dataframe\">\n",
              "  <thead>\n",
              "    <tr style=\"text-align: right;\">\n",
              "      <th></th>\n",
              "      <th>nama_depan</th>\n",
              "      <th>nama_belakang</th>\n",
              "      <th>nama_lengkap</th>\n",
              "      <th>umur</th>\n",
              "      <th>age</th>\n",
              "      <th>jenis_kelamin</th>\n",
              "      <th>lama_jam_absen</th>\n",
              "      <th>lama_pegawai_kerja</th>\n",
              "      <th>latitude</th>\n",
              "      <th>longitude</th>\n",
              "      <th>id_state</th>\n",
              "      <th>nama_state</th>\n",
              "    </tr>\n",
              "  </thead>\n",
              "  <tbody>\n",
              "    <tr>\n",
              "      <th>0</th>\n",
              "      <td>Gutierrez</td>\n",
              "      <td>Molly</td>\n",
              "      <td>MollyGutierrez</td>\n",
              "      <td>32.028816</td>\n",
              "      <td>32</td>\n",
              "      <td>F</td>\n",
              "      <td>36.577306</td>\n",
              "      <td>6.018478</td>\n",
              "      <td>29.9500</td>\n",
              "      <td>-90.0667</td>\n",
              "      <td>5</td>\n",
              "      <td>New Orleans LA</td>\n",
              "    </tr>\n",
              "    <tr>\n",
              "      <th>1</th>\n",
              "      <td>Hardwick</td>\n",
              "      <td>Stephen</td>\n",
              "      <td>StephenHardwick</td>\n",
              "      <td>40.320902</td>\n",
              "      <td>40</td>\n",
              "      <td>M</td>\n",
              "      <td>30.165072</td>\n",
              "      <td>5.532445</td>\n",
              "      <td>32.7833</td>\n",
              "      <td>-79.9333</td>\n",
              "      <td>9</td>\n",
              "      <td>Charleston SC</td>\n",
              "    </tr>\n",
              "    <tr>\n",
              "      <th>2</th>\n",
              "      <td>Delgado</td>\n",
              "      <td>Chester</td>\n",
              "      <td>ChesterDelgado</td>\n",
              "      <td>48.822047</td>\n",
              "      <td>49</td>\n",
              "      <td>M</td>\n",
              "      <td>83.807798</td>\n",
              "      <td>4.389973</td>\n",
              "      <td>32.0167</td>\n",
              "      <td>-81.1167</td>\n",
              "      <td>10</td>\n",
              "      <td>Savannah GA</td>\n",
              "    </tr>\n",
              "    <tr>\n",
              "      <th>3</th>\n",
              "      <td>Simon</td>\n",
              "      <td>Irene</td>\n",
              "      <td>IreneSimon</td>\n",
              "      <td>44.599357</td>\n",
              "      <td>45</td>\n",
              "      <td>F</td>\n",
              "      <td>70.020165</td>\n",
              "      <td>3.081736</td>\n",
              "      <td>41.8369</td>\n",
              "      <td>-87.6847</td>\n",
              "      <td>2</td>\n",
              "      <td>Chicago IL</td>\n",
              "    </tr>\n",
              "    <tr>\n",
              "      <th>4</th>\n",
              "      <td>Delvalle</td>\n",
              "      <td>Edward</td>\n",
              "      <td>EdwardDelvalle</td>\n",
              "      <td>35.697876</td>\n",
              "      <td>36</td>\n",
              "      <td>M</td>\n",
              "      <td>0.000000</td>\n",
              "      <td>3.619091</td>\n",
              "      <td>34.0500</td>\n",
              "      <td>-118.2500</td>\n",
              "      <td>4</td>\n",
              "      <td>Los Angeles CA</td>\n",
              "    </tr>\n",
              "    <tr>\n",
              "      <th>...</th>\n",
              "      <td>...</td>\n",
              "      <td>...</td>\n",
              "      <td>...</td>\n",
              "      <td>...</td>\n",
              "      <td>...</td>\n",
              "      <td>...</td>\n",
              "      <td>...</td>\n",
              "      <td>...</td>\n",
              "      <td>...</td>\n",
              "      <td>...</td>\n",
              "      <td>...</td>\n",
              "      <td>...</td>\n",
              "    </tr>\n",
              "    <tr>\n",
              "      <th>8331</th>\n",
              "      <td>Coniglio</td>\n",
              "      <td>Bianca</td>\n",
              "      <td>BiancaConiglio</td>\n",
              "      <td>46.057544</td>\n",
              "      <td>46</td>\n",
              "      <td>F</td>\n",
              "      <td>93.665111</td>\n",
              "      <td>4.838288</td>\n",
              "      <td>32.7833</td>\n",
              "      <td>-79.9333</td>\n",
              "      <td>9</td>\n",
              "      <td>Charleston SC</td>\n",
              "    </tr>\n",
              "    <tr>\n",
              "      <th>8332</th>\n",
              "      <td>Cox</td>\n",
              "      <td>Jimmie</td>\n",
              "      <td>JimmieCox</td>\n",
              "      <td>34.455490</td>\n",
              "      <td>34</td>\n",
              "      <td>M</td>\n",
              "      <td>0.000000</td>\n",
              "      <td>2.427274</td>\n",
              "      <td>35.1174</td>\n",
              "      <td>-89.9711</td>\n",
              "      <td>1</td>\n",
              "      <td>Memphis TN</td>\n",
              "    </tr>\n",
              "    <tr>\n",
              "      <th>8333</th>\n",
              "      <td>Hawkins</td>\n",
              "      <td>Mary</td>\n",
              "      <td>MaryHawkins</td>\n",
              "      <td>58.347160</td>\n",
              "      <td>58</td>\n",
              "      <td>F</td>\n",
              "      <td>176.356940</td>\n",
              "      <td>4.009393</td>\n",
              "      <td>32.7833</td>\n",
              "      <td>-79.9333</td>\n",
              "      <td>9</td>\n",
              "      <td>Charleston SC</td>\n",
              "    </tr>\n",
              "    <tr>\n",
              "      <th>8334</th>\n",
              "      <td>Proctor</td>\n",
              "      <td>Theresa</td>\n",
              "      <td>TheresaProctor</td>\n",
              "      <td>43.340616</td>\n",
              "      <td>43</td>\n",
              "      <td>F</td>\n",
              "      <td>60.321917</td>\n",
              "      <td>6.154837</td>\n",
              "      <td>39.9500</td>\n",
              "      <td>-75.1667</td>\n",
              "      <td>7</td>\n",
              "      <td>Philadelphia PA</td>\n",
              "    </tr>\n",
              "    <tr>\n",
              "      <th>8335</th>\n",
              "      <td>Salter</td>\n",
              "      <td>Charles</td>\n",
              "      <td>CharlesSalter</td>\n",
              "      <td>46.192782</td>\n",
              "      <td>46</td>\n",
              "      <td>M</td>\n",
              "      <td>112.023389</td>\n",
              "      <td>5.174722</td>\n",
              "      <td>41.8369</td>\n",
              "      <td>-87.6847</td>\n",
              "      <td>2</td>\n",
              "      <td>Chicago IL</td>\n",
              "    </tr>\n",
              "  </tbody>\n",
              "</table>\n",
              "<p>8336 rows × 12 columns</p>\n",
              "</div>\n",
              "      <button class=\"colab-df-convert\" onclick=\"convertToInteractive('df-bec76aa1-c30d-4c87-a50f-da38f347c0b0')\"\n",
              "              title=\"Convert this dataframe to an interactive table.\"\n",
              "              style=\"display:none;\">\n",
              "        \n",
              "  <svg xmlns=\"http://www.w3.org/2000/svg\" height=\"24px\"viewBox=\"0 0 24 24\"\n",
              "       width=\"24px\">\n",
              "    <path d=\"M0 0h24v24H0V0z\" fill=\"none\"/>\n",
              "    <path d=\"M18.56 5.44l.94 2.06.94-2.06 2.06-.94-2.06-.94-.94-2.06-.94 2.06-2.06.94zm-11 1L8.5 8.5l.94-2.06 2.06-.94-2.06-.94L8.5 2.5l-.94 2.06-2.06.94zm10 10l.94 2.06.94-2.06 2.06-.94-2.06-.94-.94-2.06-.94 2.06-2.06.94z\"/><path d=\"M17.41 7.96l-1.37-1.37c-.4-.4-.92-.59-1.43-.59-.52 0-1.04.2-1.43.59L10.3 9.45l-7.72 7.72c-.78.78-.78 2.05 0 2.83L4 21.41c.39.39.9.59 1.41.59.51 0 1.02-.2 1.41-.59l7.78-7.78 2.81-2.81c.8-.78.8-2.07 0-2.86zM5.41 20L4 18.59l7.72-7.72 1.47 1.35L5.41 20z\"/>\n",
              "  </svg>\n",
              "      </button>\n",
              "      \n",
              "  <style>\n",
              "    .colab-df-container {\n",
              "      display:flex;\n",
              "      flex-wrap:wrap;\n",
              "      gap: 12px;\n",
              "    }\n",
              "\n",
              "    .colab-df-convert {\n",
              "      background-color: #E8F0FE;\n",
              "      border: none;\n",
              "      border-radius: 50%;\n",
              "      cursor: pointer;\n",
              "      display: none;\n",
              "      fill: #1967D2;\n",
              "      height: 32px;\n",
              "      padding: 0 0 0 0;\n",
              "      width: 32px;\n",
              "    }\n",
              "\n",
              "    .colab-df-convert:hover {\n",
              "      background-color: #E2EBFA;\n",
              "      box-shadow: 0px 1px 2px rgba(60, 64, 67, 0.3), 0px 1px 3px 1px rgba(60, 64, 67, 0.15);\n",
              "      fill: #174EA6;\n",
              "    }\n",
              "\n",
              "    [theme=dark] .colab-df-convert {\n",
              "      background-color: #3B4455;\n",
              "      fill: #D2E3FC;\n",
              "    }\n",
              "\n",
              "    [theme=dark] .colab-df-convert:hover {\n",
              "      background-color: #434B5C;\n",
              "      box-shadow: 0px 1px 3px 1px rgba(0, 0, 0, 0.15);\n",
              "      filter: drop-shadow(0px 1px 2px rgba(0, 0, 0, 0.3));\n",
              "      fill: #FFFFFF;\n",
              "    }\n",
              "  </style>\n",
              "\n",
              "      <script>\n",
              "        const buttonEl =\n",
              "          document.querySelector('#df-bec76aa1-c30d-4c87-a50f-da38f347c0b0 button.colab-df-convert');\n",
              "        buttonEl.style.display =\n",
              "          google.colab.kernel.accessAllowed ? 'block' : 'none';\n",
              "\n",
              "        async function convertToInteractive(key) {\n",
              "          const element = document.querySelector('#df-bec76aa1-c30d-4c87-a50f-da38f347c0b0');\n",
              "          const dataTable =\n",
              "            await google.colab.kernel.invokeFunction('convertToInteractive',\n",
              "                                                     [key], {});\n",
              "          if (!dataTable) return;\n",
              "\n",
              "          const docLinkHtml = 'Like what you see? Visit the ' +\n",
              "            '<a target=\"_blank\" href=https://colab.research.google.com/notebooks/data_table.ipynb>data table notebook</a>'\n",
              "            + ' to learn more about interactive tables.';\n",
              "          element.innerHTML = '';\n",
              "          dataTable['output_type'] = 'display_data';\n",
              "          await google.colab.output.renderOutput(dataTable, element);\n",
              "          const docLink = document.createElement('div');\n",
              "          docLink.innerHTML = docLinkHtml;\n",
              "          element.appendChild(docLink);\n",
              "        }\n",
              "      </script>\n",
              "    </div>\n",
              "  </div>\n",
              "  "
            ]
          },
          "metadata": {},
          "execution_count": 46
        }
      ]
    },
    {
      "cell_type": "code",
      "source": [
        "data.drop(\"umur\", axis=1, inplace=True)\n",
        "data"
      ],
      "metadata": {
        "colab": {
          "base_uri": "https://localhost:8080/",
          "height": 424
        },
        "id": "VDdoJGdxXDiO",
        "outputId": "dbc9ebf7-5707-4687-d7e7-e0a57748d3b7"
      },
      "execution_count": null,
      "outputs": [
        {
          "output_type": "execute_result",
          "data": {
            "text/plain": [
              "     nama_depan nama_belakang     nama_lengkap  age jenis_kelamin  \\\n",
              "0     Gutierrez         Molly   MollyGutierrez   32             F   \n",
              "1      Hardwick       Stephen  StephenHardwick   40             M   \n",
              "2       Delgado       Chester   ChesterDelgado   49             M   \n",
              "3         Simon         Irene       IreneSimon   45             F   \n",
              "4      Delvalle        Edward   EdwardDelvalle   36             M   \n",
              "...         ...           ...              ...  ...           ...   \n",
              "8331   Coniglio        Bianca   BiancaConiglio   46             F   \n",
              "8332        Cox        Jimmie        JimmieCox   34             M   \n",
              "8333    Hawkins          Mary      MaryHawkins   58             F   \n",
              "8334    Proctor       Theresa   TheresaProctor   43             F   \n",
              "8335     Salter       Charles    CharlesSalter   46             M   \n",
              "\n",
              "      lama_jam_absen  lama_pegawai_kerja  latitude  longitude  id_state  \\\n",
              "0          36.577306            6.018478   29.9500   -90.0667         5   \n",
              "1          30.165072            5.532445   32.7833   -79.9333         9   \n",
              "2          83.807798            4.389973   32.0167   -81.1167        10   \n",
              "3          70.020165            3.081736   41.8369   -87.6847         2   \n",
              "4           0.000000            3.619091   34.0500  -118.2500         4   \n",
              "...              ...                 ...       ...        ...       ...   \n",
              "8331       93.665111            4.838288   32.7833   -79.9333         9   \n",
              "8332        0.000000            2.427274   35.1174   -89.9711         1   \n",
              "8333      176.356940            4.009393   32.7833   -79.9333         9   \n",
              "8334       60.321917            6.154837   39.9500   -75.1667         7   \n",
              "8335      112.023389            5.174722   41.8369   -87.6847         2   \n",
              "\n",
              "           nama_state  \n",
              "0      New Orleans LA  \n",
              "1       Charleston SC  \n",
              "2         Savannah GA  \n",
              "3          Chicago IL  \n",
              "4      Los Angeles CA  \n",
              "...               ...  \n",
              "8331    Charleston SC  \n",
              "8332       Memphis TN  \n",
              "8333    Charleston SC  \n",
              "8334  Philadelphia PA  \n",
              "8335       Chicago IL  \n",
              "\n",
              "[8336 rows x 11 columns]"
            ],
            "text/html": [
              "\n",
              "  <div id=\"df-50e8a5b2-fb95-4d5e-ac00-c1fd6a7962ab\">\n",
              "    <div class=\"colab-df-container\">\n",
              "      <div>\n",
              "<style scoped>\n",
              "    .dataframe tbody tr th:only-of-type {\n",
              "        vertical-align: middle;\n",
              "    }\n",
              "\n",
              "    .dataframe tbody tr th {\n",
              "        vertical-align: top;\n",
              "    }\n",
              "\n",
              "    .dataframe thead th {\n",
              "        text-align: right;\n",
              "    }\n",
              "</style>\n",
              "<table border=\"1\" class=\"dataframe\">\n",
              "  <thead>\n",
              "    <tr style=\"text-align: right;\">\n",
              "      <th></th>\n",
              "      <th>nama_depan</th>\n",
              "      <th>nama_belakang</th>\n",
              "      <th>nama_lengkap</th>\n",
              "      <th>age</th>\n",
              "      <th>jenis_kelamin</th>\n",
              "      <th>lama_jam_absen</th>\n",
              "      <th>lama_pegawai_kerja</th>\n",
              "      <th>latitude</th>\n",
              "      <th>longitude</th>\n",
              "      <th>id_state</th>\n",
              "      <th>nama_state</th>\n",
              "    </tr>\n",
              "  </thead>\n",
              "  <tbody>\n",
              "    <tr>\n",
              "      <th>0</th>\n",
              "      <td>Gutierrez</td>\n",
              "      <td>Molly</td>\n",
              "      <td>MollyGutierrez</td>\n",
              "      <td>32</td>\n",
              "      <td>F</td>\n",
              "      <td>36.577306</td>\n",
              "      <td>6.018478</td>\n",
              "      <td>29.9500</td>\n",
              "      <td>-90.0667</td>\n",
              "      <td>5</td>\n",
              "      <td>New Orleans LA</td>\n",
              "    </tr>\n",
              "    <tr>\n",
              "      <th>1</th>\n",
              "      <td>Hardwick</td>\n",
              "      <td>Stephen</td>\n",
              "      <td>StephenHardwick</td>\n",
              "      <td>40</td>\n",
              "      <td>M</td>\n",
              "      <td>30.165072</td>\n",
              "      <td>5.532445</td>\n",
              "      <td>32.7833</td>\n",
              "      <td>-79.9333</td>\n",
              "      <td>9</td>\n",
              "      <td>Charleston SC</td>\n",
              "    </tr>\n",
              "    <tr>\n",
              "      <th>2</th>\n",
              "      <td>Delgado</td>\n",
              "      <td>Chester</td>\n",
              "      <td>ChesterDelgado</td>\n",
              "      <td>49</td>\n",
              "      <td>M</td>\n",
              "      <td>83.807798</td>\n",
              "      <td>4.389973</td>\n",
              "      <td>32.0167</td>\n",
              "      <td>-81.1167</td>\n",
              "      <td>10</td>\n",
              "      <td>Savannah GA</td>\n",
              "    </tr>\n",
              "    <tr>\n",
              "      <th>3</th>\n",
              "      <td>Simon</td>\n",
              "      <td>Irene</td>\n",
              "      <td>IreneSimon</td>\n",
              "      <td>45</td>\n",
              "      <td>F</td>\n",
              "      <td>70.020165</td>\n",
              "      <td>3.081736</td>\n",
              "      <td>41.8369</td>\n",
              "      <td>-87.6847</td>\n",
              "      <td>2</td>\n",
              "      <td>Chicago IL</td>\n",
              "    </tr>\n",
              "    <tr>\n",
              "      <th>4</th>\n",
              "      <td>Delvalle</td>\n",
              "      <td>Edward</td>\n",
              "      <td>EdwardDelvalle</td>\n",
              "      <td>36</td>\n",
              "      <td>M</td>\n",
              "      <td>0.000000</td>\n",
              "      <td>3.619091</td>\n",
              "      <td>34.0500</td>\n",
              "      <td>-118.2500</td>\n",
              "      <td>4</td>\n",
              "      <td>Los Angeles CA</td>\n",
              "    </tr>\n",
              "    <tr>\n",
              "      <th>...</th>\n",
              "      <td>...</td>\n",
              "      <td>...</td>\n",
              "      <td>...</td>\n",
              "      <td>...</td>\n",
              "      <td>...</td>\n",
              "      <td>...</td>\n",
              "      <td>...</td>\n",
              "      <td>...</td>\n",
              "      <td>...</td>\n",
              "      <td>...</td>\n",
              "      <td>...</td>\n",
              "    </tr>\n",
              "    <tr>\n",
              "      <th>8331</th>\n",
              "      <td>Coniglio</td>\n",
              "      <td>Bianca</td>\n",
              "      <td>BiancaConiglio</td>\n",
              "      <td>46</td>\n",
              "      <td>F</td>\n",
              "      <td>93.665111</td>\n",
              "      <td>4.838288</td>\n",
              "      <td>32.7833</td>\n",
              "      <td>-79.9333</td>\n",
              "      <td>9</td>\n",
              "      <td>Charleston SC</td>\n",
              "    </tr>\n",
              "    <tr>\n",
              "      <th>8332</th>\n",
              "      <td>Cox</td>\n",
              "      <td>Jimmie</td>\n",
              "      <td>JimmieCox</td>\n",
              "      <td>34</td>\n",
              "      <td>M</td>\n",
              "      <td>0.000000</td>\n",
              "      <td>2.427274</td>\n",
              "      <td>35.1174</td>\n",
              "      <td>-89.9711</td>\n",
              "      <td>1</td>\n",
              "      <td>Memphis TN</td>\n",
              "    </tr>\n",
              "    <tr>\n",
              "      <th>8333</th>\n",
              "      <td>Hawkins</td>\n",
              "      <td>Mary</td>\n",
              "      <td>MaryHawkins</td>\n",
              "      <td>58</td>\n",
              "      <td>F</td>\n",
              "      <td>176.356940</td>\n",
              "      <td>4.009393</td>\n",
              "      <td>32.7833</td>\n",
              "      <td>-79.9333</td>\n",
              "      <td>9</td>\n",
              "      <td>Charleston SC</td>\n",
              "    </tr>\n",
              "    <tr>\n",
              "      <th>8334</th>\n",
              "      <td>Proctor</td>\n",
              "      <td>Theresa</td>\n",
              "      <td>TheresaProctor</td>\n",
              "      <td>43</td>\n",
              "      <td>F</td>\n",
              "      <td>60.321917</td>\n",
              "      <td>6.154837</td>\n",
              "      <td>39.9500</td>\n",
              "      <td>-75.1667</td>\n",
              "      <td>7</td>\n",
              "      <td>Philadelphia PA</td>\n",
              "    </tr>\n",
              "    <tr>\n",
              "      <th>8335</th>\n",
              "      <td>Salter</td>\n",
              "      <td>Charles</td>\n",
              "      <td>CharlesSalter</td>\n",
              "      <td>46</td>\n",
              "      <td>M</td>\n",
              "      <td>112.023389</td>\n",
              "      <td>5.174722</td>\n",
              "      <td>41.8369</td>\n",
              "      <td>-87.6847</td>\n",
              "      <td>2</td>\n",
              "      <td>Chicago IL</td>\n",
              "    </tr>\n",
              "  </tbody>\n",
              "</table>\n",
              "<p>8336 rows × 11 columns</p>\n",
              "</div>\n",
              "      <button class=\"colab-df-convert\" onclick=\"convertToInteractive('df-50e8a5b2-fb95-4d5e-ac00-c1fd6a7962ab')\"\n",
              "              title=\"Convert this dataframe to an interactive table.\"\n",
              "              style=\"display:none;\">\n",
              "        \n",
              "  <svg xmlns=\"http://www.w3.org/2000/svg\" height=\"24px\"viewBox=\"0 0 24 24\"\n",
              "       width=\"24px\">\n",
              "    <path d=\"M0 0h24v24H0V0z\" fill=\"none\"/>\n",
              "    <path d=\"M18.56 5.44l.94 2.06.94-2.06 2.06-.94-2.06-.94-.94-2.06-.94 2.06-2.06.94zm-11 1L8.5 8.5l.94-2.06 2.06-.94-2.06-.94L8.5 2.5l-.94 2.06-2.06.94zm10 10l.94 2.06.94-2.06 2.06-.94-2.06-.94-.94-2.06-.94 2.06-2.06.94z\"/><path d=\"M17.41 7.96l-1.37-1.37c-.4-.4-.92-.59-1.43-.59-.52 0-1.04.2-1.43.59L10.3 9.45l-7.72 7.72c-.78.78-.78 2.05 0 2.83L4 21.41c.39.39.9.59 1.41.59.51 0 1.02-.2 1.41-.59l7.78-7.78 2.81-2.81c.8-.78.8-2.07 0-2.86zM5.41 20L4 18.59l7.72-7.72 1.47 1.35L5.41 20z\"/>\n",
              "  </svg>\n",
              "      </button>\n",
              "      \n",
              "  <style>\n",
              "    .colab-df-container {\n",
              "      display:flex;\n",
              "      flex-wrap:wrap;\n",
              "      gap: 12px;\n",
              "    }\n",
              "\n",
              "    .colab-df-convert {\n",
              "      background-color: #E8F0FE;\n",
              "      border: none;\n",
              "      border-radius: 50%;\n",
              "      cursor: pointer;\n",
              "      display: none;\n",
              "      fill: #1967D2;\n",
              "      height: 32px;\n",
              "      padding: 0 0 0 0;\n",
              "      width: 32px;\n",
              "    }\n",
              "\n",
              "    .colab-df-convert:hover {\n",
              "      background-color: #E2EBFA;\n",
              "      box-shadow: 0px 1px 2px rgba(60, 64, 67, 0.3), 0px 1px 3px 1px rgba(60, 64, 67, 0.15);\n",
              "      fill: #174EA6;\n",
              "    }\n",
              "\n",
              "    [theme=dark] .colab-df-convert {\n",
              "      background-color: #3B4455;\n",
              "      fill: #D2E3FC;\n",
              "    }\n",
              "\n",
              "    [theme=dark] .colab-df-convert:hover {\n",
              "      background-color: #434B5C;\n",
              "      box-shadow: 0px 1px 3px 1px rgba(0, 0, 0, 0.15);\n",
              "      filter: drop-shadow(0px 1px 2px rgba(0, 0, 0, 0.3));\n",
              "      fill: #FFFFFF;\n",
              "    }\n",
              "  </style>\n",
              "\n",
              "      <script>\n",
              "        const buttonEl =\n",
              "          document.querySelector('#df-50e8a5b2-fb95-4d5e-ac00-c1fd6a7962ab button.colab-df-convert');\n",
              "        buttonEl.style.display =\n",
              "          google.colab.kernel.accessAllowed ? 'block' : 'none';\n",
              "\n",
              "        async function convertToInteractive(key) {\n",
              "          const element = document.querySelector('#df-50e8a5b2-fb95-4d5e-ac00-c1fd6a7962ab');\n",
              "          const dataTable =\n",
              "            await google.colab.kernel.invokeFunction('convertToInteractive',\n",
              "                                                     [key], {});\n",
              "          if (!dataTable) return;\n",
              "\n",
              "          const docLinkHtml = 'Like what you see? Visit the ' +\n",
              "            '<a target=\"_blank\" href=https://colab.research.google.com/notebooks/data_table.ipynb>data table notebook</a>'\n",
              "            + ' to learn more about interactive tables.';\n",
              "          element.innerHTML = '';\n",
              "          dataTable['output_type'] = 'display_data';\n",
              "          await google.colab.output.renderOutput(dataTable, element);\n",
              "          const docLink = document.createElement('div');\n",
              "          docLink.innerHTML = docLinkHtml;\n",
              "          element.appendChild(docLink);\n",
              "        }\n",
              "      </script>\n",
              "    </div>\n",
              "  </div>\n",
              "  "
            ]
          },
          "metadata": {},
          "execution_count": 3
        }
      ]
    },
    {
      "cell_type": "code",
      "source": [
        "data.columns"
      ],
      "metadata": {
        "colab": {
          "base_uri": "https://localhost:8080/"
        },
        "id": "CFz5qxcFXJOc",
        "outputId": "cdd92385-06d0-4f42-9962-e3e7c848dfec"
      },
      "execution_count": null,
      "outputs": [
        {
          "output_type": "execute_result",
          "data": {
            "text/plain": [
              "Index(['nama_depan', 'nama_belakang', 'nama_lengkap', 'age', 'jenis_kelamin',\n",
              "       'lama_jam_absen', 'lama_pegawai_kerja', 'latitude', 'longitude',\n",
              "       'id_state', 'nama_state'],\n",
              "      dtype='object')"
            ]
          },
          "metadata": {},
          "execution_count": 4
        }
      ]
    },
    {
      "cell_type": "code",
      "source": [
        "data.dtypes"
      ],
      "metadata": {
        "colab": {
          "base_uri": "https://localhost:8080/"
        },
        "id": "9EVZbH5hXOe_",
        "outputId": "c6cf8162-c0e7-4a70-9777-3084da30bf8f"
      },
      "execution_count": null,
      "outputs": [
        {
          "output_type": "execute_result",
          "data": {
            "text/plain": [
              "nama_depan             object\n",
              "nama_belakang          object\n",
              "nama_lengkap           object\n",
              "age                     int64\n",
              "jenis_kelamin          object\n",
              "lama_jam_absen        float64\n",
              "lama_pegawai_kerja    float64\n",
              "latitude              float64\n",
              "longitude             float64\n",
              "id_state                int64\n",
              "nama_state             object\n",
              "dtype: object"
            ]
          },
          "metadata": {},
          "execution_count": 5
        }
      ]
    },
    {
      "cell_type": "code",
      "source": [
        "data.shape"
      ],
      "metadata": {
        "colab": {
          "base_uri": "https://localhost:8080/"
        },
        "id": "DNSzDCtsXSac",
        "outputId": "f0dcc728-5907-4608-b162-457c265b4d62"
      },
      "execution_count": null,
      "outputs": [
        {
          "output_type": "execute_result",
          "data": {
            "text/plain": [
              "(8336, 11)"
            ]
          },
          "metadata": {},
          "execution_count": 6
        }
      ]
    },
    {
      "cell_type": "markdown",
      "source": [
        "### Articles"
      ],
      "metadata": {
        "id": "Gm-qMDuEXZzI"
      }
    },
    {
      "cell_type": "code",
      "source": [
        "data.info()"
      ],
      "metadata": {
        "colab": {
          "base_uri": "https://localhost:8080/"
        },
        "id": "KYPkQ24sXVCw",
        "outputId": "12d3682f-8b55-470d-dbaa-866a55598334"
      },
      "execution_count": null,
      "outputs": [
        {
          "output_type": "stream",
          "name": "stdout",
          "text": [
            "<class 'pandas.core.frame.DataFrame'>\n",
            "RangeIndex: 8336 entries, 0 to 8335\n",
            "Data columns (total 11 columns):\n",
            " #   Column              Non-Null Count  Dtype  \n",
            "---  ------              --------------  -----  \n",
            " 0   nama_depan          8336 non-null   object \n",
            " 1   nama_belakang       8336 non-null   object \n",
            " 2   nama_lengkap        8336 non-null   object \n",
            " 3   age                 8336 non-null   int64  \n",
            " 4   jenis_kelamin       8336 non-null   object \n",
            " 5   lama_jam_absen      8336 non-null   float64\n",
            " 6   lama_pegawai_kerja  8336 non-null   float64\n",
            " 7   latitude            8336 non-null   float64\n",
            " 8   longitude           8336 non-null   float64\n",
            " 9   id_state            8336 non-null   int64  \n",
            " 10  nama_state          8336 non-null   object \n",
            "dtypes: float64(4), int64(2), object(5)\n",
            "memory usage: 716.5+ KB\n"
          ]
        }
      ]
    },
    {
      "cell_type": "code",
      "source": [
        "for feature in data.columns:\n",
        "    print(\n",
        "        f\"- num of unique values in `{feature}`:\",\n",
        "        data[feature].nunique()\n",
        "    )"
      ],
      "metadata": {
        "colab": {
          "base_uri": "https://localhost:8080/"
        },
        "id": "YZ_E0ARfXdJn",
        "outputId": "c8eda198-a644-45c2-add6-8e1e19b9dad8"
      },
      "execution_count": null,
      "outputs": [
        {
          "output_type": "stream",
          "name": "stdout",
          "text": [
            "- num of unique values in `nama_depan`: 4051\n",
            "- num of unique values in `nama_belakang`: 1625\n",
            "- num of unique values in `nama_lengkap`: 8209\n",
            "- num of unique values in `age`: 70\n",
            "- num of unique values in `jenis_kelamin`: 2\n",
            "- num of unique values in `lama_jam_absen`: 7016\n",
            "- num of unique values in `lama_pegawai_kerja`: 8301\n",
            "- num of unique values in `latitude`: 10\n",
            "- num of unique values in `longitude`: 10\n",
            "- num of unique values in `id_state`: 10\n",
            "- num of unique values in `nama_state`: 10\n"
          ]
        }
      ]
    },
    {
      "cell_type": "markdown",
      "source": [
        "> **Insight**\n",
        "terlihat perbedaan jumlah pada nilai `lama_jam_absen`, `lama_pegawai_kerja`. Sehingga kita perlu melihat **two-way table** antara kedua fitur tersebut"
      ],
      "metadata": {
        "id": "st3z3QZ9XyQT"
      }
    },
    {
      "cell_type": "code",
      "source": [
        "data.describe()"
      ],
      "metadata": {
        "colab": {
          "base_uri": "https://localhost:8080/"
        },
        "id": "A0E1-gsRXpU5",
        "outputId": "4217ccaa-0553-432e-8990-d2034902d4d4"
      },
      "execution_count": null,
      "outputs": [
        {
          "output_type": "execute_result",
          "data": {
            "text/plain": [
              "               age  lama_jam_absen  lama_pegawai_kerja     latitude  \\\n",
              "count  8336.000000     8336.000000         8336.000000  8336.000000   \n",
              "mean     42.010797       61.283978            4.782910    34.667625   \n",
              "std       9.941382       49.038365            2.462990     4.334152   \n",
              "min       4.000000        0.000000            0.012098    29.760400   \n",
              "25%      35.000000       19.127590            3.575892    30.694400   \n",
              "50%      42.000000       56.005808            4.600248    32.783300   \n",
              "75%      49.000000       94.284692            5.623922    39.950000   \n",
              "max      78.000000      272.530123           43.735239    41.836900   \n",
              "\n",
              "         longitude     id_state  \n",
              "count  8336.000000  8336.000000  \n",
              "mean    -87.987046     5.493762  \n",
              "std      12.073775     2.872447  \n",
              "min    -118.250000     1.000000  \n",
              "25%     -90.066700     3.000000  \n",
              "50%     -88.043100     5.000000  \n",
              "75%     -79.933300     8.000000  \n",
              "max     -73.783400    10.000000  "
            ],
            "text/html": [
              "\n",
              "  <div id=\"df-22b52240-3653-4d94-9015-d65b8d1a4657\">\n",
              "    <div class=\"colab-df-container\">\n",
              "      <div>\n",
              "<style scoped>\n",
              "    .dataframe tbody tr th:only-of-type {\n",
              "        vertical-align: middle;\n",
              "    }\n",
              "\n",
              "    .dataframe tbody tr th {\n",
              "        vertical-align: top;\n",
              "    }\n",
              "\n",
              "    .dataframe thead th {\n",
              "        text-align: right;\n",
              "    }\n",
              "</style>\n",
              "<table border=\"1\" class=\"dataframe\">\n",
              "  <thead>\n",
              "    <tr style=\"text-align: right;\">\n",
              "      <th></th>\n",
              "      <th>age</th>\n",
              "      <th>lama_jam_absen</th>\n",
              "      <th>lama_pegawai_kerja</th>\n",
              "      <th>latitude</th>\n",
              "      <th>longitude</th>\n",
              "      <th>id_state</th>\n",
              "    </tr>\n",
              "  </thead>\n",
              "  <tbody>\n",
              "    <tr>\n",
              "      <th>count</th>\n",
              "      <td>8336.000000</td>\n",
              "      <td>8336.000000</td>\n",
              "      <td>8336.000000</td>\n",
              "      <td>8336.000000</td>\n",
              "      <td>8336.000000</td>\n",
              "      <td>8336.000000</td>\n",
              "    </tr>\n",
              "    <tr>\n",
              "      <th>mean</th>\n",
              "      <td>42.010797</td>\n",
              "      <td>61.283978</td>\n",
              "      <td>4.782910</td>\n",
              "      <td>34.667625</td>\n",
              "      <td>-87.987046</td>\n",
              "      <td>5.493762</td>\n",
              "    </tr>\n",
              "    <tr>\n",
              "      <th>std</th>\n",
              "      <td>9.941382</td>\n",
              "      <td>49.038365</td>\n",
              "      <td>2.462990</td>\n",
              "      <td>4.334152</td>\n",
              "      <td>12.073775</td>\n",
              "      <td>2.872447</td>\n",
              "    </tr>\n",
              "    <tr>\n",
              "      <th>min</th>\n",
              "      <td>4.000000</td>\n",
              "      <td>0.000000</td>\n",
              "      <td>0.012098</td>\n",
              "      <td>29.760400</td>\n",
              "      <td>-118.250000</td>\n",
              "      <td>1.000000</td>\n",
              "    </tr>\n",
              "    <tr>\n",
              "      <th>25%</th>\n",
              "      <td>35.000000</td>\n",
              "      <td>19.127590</td>\n",
              "      <td>3.575892</td>\n",
              "      <td>30.694400</td>\n",
              "      <td>-90.066700</td>\n",
              "      <td>3.000000</td>\n",
              "    </tr>\n",
              "    <tr>\n",
              "      <th>50%</th>\n",
              "      <td>42.000000</td>\n",
              "      <td>56.005808</td>\n",
              "      <td>4.600248</td>\n",
              "      <td>32.783300</td>\n",
              "      <td>-88.043100</td>\n",
              "      <td>5.000000</td>\n",
              "    </tr>\n",
              "    <tr>\n",
              "      <th>75%</th>\n",
              "      <td>49.000000</td>\n",
              "      <td>94.284692</td>\n",
              "      <td>5.623922</td>\n",
              "      <td>39.950000</td>\n",
              "      <td>-79.933300</td>\n",
              "      <td>8.000000</td>\n",
              "    </tr>\n",
              "    <tr>\n",
              "      <th>max</th>\n",
              "      <td>78.000000</td>\n",
              "      <td>272.530123</td>\n",
              "      <td>43.735239</td>\n",
              "      <td>41.836900</td>\n",
              "      <td>-73.783400</td>\n",
              "      <td>10.000000</td>\n",
              "    </tr>\n",
              "  </tbody>\n",
              "</table>\n",
              "</div>\n",
              "      <button class=\"colab-df-convert\" onclick=\"convertToInteractive('df-22b52240-3653-4d94-9015-d65b8d1a4657')\"\n",
              "              title=\"Convert this dataframe to an interactive table.\"\n",
              "              style=\"display:none;\">\n",
              "        \n",
              "  <svg xmlns=\"http://www.w3.org/2000/svg\" height=\"24px\"viewBox=\"0 0 24 24\"\n",
              "       width=\"24px\">\n",
              "    <path d=\"M0 0h24v24H0V0z\" fill=\"none\"/>\n",
              "    <path d=\"M18.56 5.44l.94 2.06.94-2.06 2.06-.94-2.06-.94-.94-2.06-.94 2.06-2.06.94zm-11 1L8.5 8.5l.94-2.06 2.06-.94-2.06-.94L8.5 2.5l-.94 2.06-2.06.94zm10 10l.94 2.06.94-2.06 2.06-.94-2.06-.94-.94-2.06-.94 2.06-2.06.94z\"/><path d=\"M17.41 7.96l-1.37-1.37c-.4-.4-.92-.59-1.43-.59-.52 0-1.04.2-1.43.59L10.3 9.45l-7.72 7.72c-.78.78-.78 2.05 0 2.83L4 21.41c.39.39.9.59 1.41.59.51 0 1.02-.2 1.41-.59l7.78-7.78 2.81-2.81c.8-.78.8-2.07 0-2.86zM5.41 20L4 18.59l7.72-7.72 1.47 1.35L5.41 20z\"/>\n",
              "  </svg>\n",
              "      </button>\n",
              "      \n",
              "  <style>\n",
              "    .colab-df-container {\n",
              "      display:flex;\n",
              "      flex-wrap:wrap;\n",
              "      gap: 12px;\n",
              "    }\n",
              "\n",
              "    .colab-df-convert {\n",
              "      background-color: #E8F0FE;\n",
              "      border: none;\n",
              "      border-radius: 50%;\n",
              "      cursor: pointer;\n",
              "      display: none;\n",
              "      fill: #1967D2;\n",
              "      height: 32px;\n",
              "      padding: 0 0 0 0;\n",
              "      width: 32px;\n",
              "    }\n",
              "\n",
              "    .colab-df-convert:hover {\n",
              "      background-color: #E2EBFA;\n",
              "      box-shadow: 0px 1px 2px rgba(60, 64, 67, 0.3), 0px 1px 3px 1px rgba(60, 64, 67, 0.15);\n",
              "      fill: #174EA6;\n",
              "    }\n",
              "\n",
              "    [theme=dark] .colab-df-convert {\n",
              "      background-color: #3B4455;\n",
              "      fill: #D2E3FC;\n",
              "    }\n",
              "\n",
              "    [theme=dark] .colab-df-convert:hover {\n",
              "      background-color: #434B5C;\n",
              "      box-shadow: 0px 1px 3px 1px rgba(0, 0, 0, 0.15);\n",
              "      filter: drop-shadow(0px 1px 2px rgba(0, 0, 0, 0.3));\n",
              "      fill: #FFFFFF;\n",
              "    }\n",
              "  </style>\n",
              "\n",
              "      <script>\n",
              "        const buttonEl =\n",
              "          document.querySelector('#df-22b52240-3653-4d94-9015-d65b8d1a4657 button.colab-df-convert');\n",
              "        buttonEl.style.display =\n",
              "          google.colab.kernel.accessAllowed ? 'block' : 'none';\n",
              "\n",
              "        async function convertToInteractive(key) {\n",
              "          const element = document.querySelector('#df-22b52240-3653-4d94-9015-d65b8d1a4657');\n",
              "          const dataTable =\n",
              "            await google.colab.kernel.invokeFunction('convertToInteractive',\n",
              "                                                     [key], {});\n",
              "          if (!dataTable) return;\n",
              "\n",
              "          const docLinkHtml = 'Like what you see? Visit the ' +\n",
              "            '<a target=\"_blank\" href=https://colab.research.google.com/notebooks/data_table.ipynb>data table notebook</a>'\n",
              "            + ' to learn more about interactive tables.';\n",
              "          element.innerHTML = '';\n",
              "          dataTable['output_type'] = 'display_data';\n",
              "          await google.colab.output.renderOutput(dataTable, element);\n",
              "          const docLink = document.createElement('div');\n",
              "          docLink.innerHTML = docLinkHtml;\n",
              "          element.appendChild(docLink);\n",
              "        }\n",
              "      </script>\n",
              "    </div>\n",
              "  </div>\n",
              "  "
            ]
          },
          "metadata": {},
          "execution_count": 9
        }
      ]
    },
    {
      "cell_type": "markdown",
      "source": [
        "### Korelasi\n",
        "\n",
        "#### Karena disini ingin menganalisa produktifitas karyawan berdasarkan `lama_jam_absen` dan `lama_pegawai_kerja`, kita akan melihat besar korelasi di fitur tersebut."
      ],
      "metadata": {
        "id": "5dViKU3Ua0AZ"
      }
    },
    {
      "cell_type": "code",
      "source": [
        "data.corr()"
      ],
      "metadata": {
        "colab": {
          "base_uri": "https://localhost:8080/",
          "height": 237
        },
        "id": "GXkxXQYkX1K4",
        "outputId": "62d8226b-44ff-4b17-c665-e2bbbbe59c23"
      },
      "execution_count": null,
      "outputs": [
        {
          "output_type": "execute_result",
          "data": {
            "text/plain": [
              "                         age  lama_jam_absen  lama_pegawai_kerja  latitude  \\\n",
              "age                 1.000000        0.829371            0.053458  0.021982   \n",
              "lama_jam_absen      0.829371        1.000000           -0.044202  0.006531   \n",
              "lama_pegawai_kerja  0.053458       -0.044202            1.000000  0.014878   \n",
              "latitude            0.021982        0.006531            0.014878  1.000000   \n",
              "longitude           0.018766        0.016903            0.000977  0.351676   \n",
              "id_state           -0.015358       -0.010447           -0.007180 -0.237361   \n",
              "\n",
              "                    longitude  id_state  \n",
              "age                  0.018766 -0.015358  \n",
              "lama_jam_absen       0.016903 -0.010447  \n",
              "lama_pegawai_kerja   0.000977 -0.007180  \n",
              "latitude             0.351676 -0.237361  \n",
              "longitude            1.000000  0.454043  \n",
              "id_state             0.454043  1.000000  "
            ],
            "text/html": [
              "\n",
              "  <div id=\"df-a0c9f073-2c50-415f-aa10-7f388a3718fb\">\n",
              "    <div class=\"colab-df-container\">\n",
              "      <div>\n",
              "<style scoped>\n",
              "    .dataframe tbody tr th:only-of-type {\n",
              "        vertical-align: middle;\n",
              "    }\n",
              "\n",
              "    .dataframe tbody tr th {\n",
              "        vertical-align: top;\n",
              "    }\n",
              "\n",
              "    .dataframe thead th {\n",
              "        text-align: right;\n",
              "    }\n",
              "</style>\n",
              "<table border=\"1\" class=\"dataframe\">\n",
              "  <thead>\n",
              "    <tr style=\"text-align: right;\">\n",
              "      <th></th>\n",
              "      <th>age</th>\n",
              "      <th>lama_jam_absen</th>\n",
              "      <th>lama_pegawai_kerja</th>\n",
              "      <th>latitude</th>\n",
              "      <th>longitude</th>\n",
              "      <th>id_state</th>\n",
              "    </tr>\n",
              "  </thead>\n",
              "  <tbody>\n",
              "    <tr>\n",
              "      <th>age</th>\n",
              "      <td>1.000000</td>\n",
              "      <td>0.829371</td>\n",
              "      <td>0.053458</td>\n",
              "      <td>0.021982</td>\n",
              "      <td>0.018766</td>\n",
              "      <td>-0.015358</td>\n",
              "    </tr>\n",
              "    <tr>\n",
              "      <th>lama_jam_absen</th>\n",
              "      <td>0.829371</td>\n",
              "      <td>1.000000</td>\n",
              "      <td>-0.044202</td>\n",
              "      <td>0.006531</td>\n",
              "      <td>0.016903</td>\n",
              "      <td>-0.010447</td>\n",
              "    </tr>\n",
              "    <tr>\n",
              "      <th>lama_pegawai_kerja</th>\n",
              "      <td>0.053458</td>\n",
              "      <td>-0.044202</td>\n",
              "      <td>1.000000</td>\n",
              "      <td>0.014878</td>\n",
              "      <td>0.000977</td>\n",
              "      <td>-0.007180</td>\n",
              "    </tr>\n",
              "    <tr>\n",
              "      <th>latitude</th>\n",
              "      <td>0.021982</td>\n",
              "      <td>0.006531</td>\n",
              "      <td>0.014878</td>\n",
              "      <td>1.000000</td>\n",
              "      <td>0.351676</td>\n",
              "      <td>-0.237361</td>\n",
              "    </tr>\n",
              "    <tr>\n",
              "      <th>longitude</th>\n",
              "      <td>0.018766</td>\n",
              "      <td>0.016903</td>\n",
              "      <td>0.000977</td>\n",
              "      <td>0.351676</td>\n",
              "      <td>1.000000</td>\n",
              "      <td>0.454043</td>\n",
              "    </tr>\n",
              "    <tr>\n",
              "      <th>id_state</th>\n",
              "      <td>-0.015358</td>\n",
              "      <td>-0.010447</td>\n",
              "      <td>-0.007180</td>\n",
              "      <td>-0.237361</td>\n",
              "      <td>0.454043</td>\n",
              "      <td>1.000000</td>\n",
              "    </tr>\n",
              "  </tbody>\n",
              "</table>\n",
              "</div>\n",
              "      <button class=\"colab-df-convert\" onclick=\"convertToInteractive('df-a0c9f073-2c50-415f-aa10-7f388a3718fb')\"\n",
              "              title=\"Convert this dataframe to an interactive table.\"\n",
              "              style=\"display:none;\">\n",
              "        \n",
              "  <svg xmlns=\"http://www.w3.org/2000/svg\" height=\"24px\"viewBox=\"0 0 24 24\"\n",
              "       width=\"24px\">\n",
              "    <path d=\"M0 0h24v24H0V0z\" fill=\"none\"/>\n",
              "    <path d=\"M18.56 5.44l.94 2.06.94-2.06 2.06-.94-2.06-.94-.94-2.06-.94 2.06-2.06.94zm-11 1L8.5 8.5l.94-2.06 2.06-.94-2.06-.94L8.5 2.5l-.94 2.06-2.06.94zm10 10l.94 2.06.94-2.06 2.06-.94-2.06-.94-.94-2.06-.94 2.06-2.06.94z\"/><path d=\"M17.41 7.96l-1.37-1.37c-.4-.4-.92-.59-1.43-.59-.52 0-1.04.2-1.43.59L10.3 9.45l-7.72 7.72c-.78.78-.78 2.05 0 2.83L4 21.41c.39.39.9.59 1.41.59.51 0 1.02-.2 1.41-.59l7.78-7.78 2.81-2.81c.8-.78.8-2.07 0-2.86zM5.41 20L4 18.59l7.72-7.72 1.47 1.35L5.41 20z\"/>\n",
              "  </svg>\n",
              "      </button>\n",
              "      \n",
              "  <style>\n",
              "    .colab-df-container {\n",
              "      display:flex;\n",
              "      flex-wrap:wrap;\n",
              "      gap: 12px;\n",
              "    }\n",
              "\n",
              "    .colab-df-convert {\n",
              "      background-color: #E8F0FE;\n",
              "      border: none;\n",
              "      border-radius: 50%;\n",
              "      cursor: pointer;\n",
              "      display: none;\n",
              "      fill: #1967D2;\n",
              "      height: 32px;\n",
              "      padding: 0 0 0 0;\n",
              "      width: 32px;\n",
              "    }\n",
              "\n",
              "    .colab-df-convert:hover {\n",
              "      background-color: #E2EBFA;\n",
              "      box-shadow: 0px 1px 2px rgba(60, 64, 67, 0.3), 0px 1px 3px 1px rgba(60, 64, 67, 0.15);\n",
              "      fill: #174EA6;\n",
              "    }\n",
              "\n",
              "    [theme=dark] .colab-df-convert {\n",
              "      background-color: #3B4455;\n",
              "      fill: #D2E3FC;\n",
              "    }\n",
              "\n",
              "    [theme=dark] .colab-df-convert:hover {\n",
              "      background-color: #434B5C;\n",
              "      box-shadow: 0px 1px 3px 1px rgba(0, 0, 0, 0.15);\n",
              "      filter: drop-shadow(0px 1px 2px rgba(0, 0, 0, 0.3));\n",
              "      fill: #FFFFFF;\n",
              "    }\n",
              "  </style>\n",
              "\n",
              "      <script>\n",
              "        const buttonEl =\n",
              "          document.querySelector('#df-a0c9f073-2c50-415f-aa10-7f388a3718fb button.colab-df-convert');\n",
              "        buttonEl.style.display =\n",
              "          google.colab.kernel.accessAllowed ? 'block' : 'none';\n",
              "\n",
              "        async function convertToInteractive(key) {\n",
              "          const element = document.querySelector('#df-a0c9f073-2c50-415f-aa10-7f388a3718fb');\n",
              "          const dataTable =\n",
              "            await google.colab.kernel.invokeFunction('convertToInteractive',\n",
              "                                                     [key], {});\n",
              "          if (!dataTable) return;\n",
              "\n",
              "          const docLinkHtml = 'Like what you see? Visit the ' +\n",
              "            '<a target=\"_blank\" href=https://colab.research.google.com/notebooks/data_table.ipynb>data table notebook</a>'\n",
              "            + ' to learn more about interactive tables.';\n",
              "          element.innerHTML = '';\n",
              "          dataTable['output_type'] = 'display_data';\n",
              "          await google.colab.output.renderOutput(dataTable, element);\n",
              "          const docLink = document.createElement('div');\n",
              "          docLink.innerHTML = docLinkHtml;\n",
              "          element.appendChild(docLink);\n",
              "        }\n",
              "      </script>\n",
              "    </div>\n",
              "  </div>\n",
              "  "
            ]
          },
          "metadata": {},
          "execution_count": 10
        }
      ]
    },
    {
      "cell_type": "code",
      "source": [
        "sns.heatmap(\n",
        "    data[['age', 'lama_jam_absen', 'lama_pegawai_kerja']].corr(),\n",
        "    annot=True,\n",
        "    center=0,\n",
        ");"
      ],
      "metadata": {
        "colab": {
          "base_uri": "https://localhost:8080/",
          "height": 361
        },
        "id": "sZQuvVQBaMwk",
        "outputId": "2e21bb0b-8425-4c73-f3cc-efa61054ec5a"
      },
      "execution_count": null,
      "outputs": [
        {
          "output_type": "display_data",
          "data": {
            "text/plain": [
              "<Figure size 432x288 with 2 Axes>"
            ],
            "image/png": "[encoded data removed]"
          },
          "metadata": {
            "needs_background": "light"
          }
        }
      ]
    },
    {
      "cell_type": "code",
      "source": [
        "data[['lama_jam_absen', 'lama_pegawai_kerja']].corr()"
      ],
      "metadata": {
        "colab": {
          "base_uri": "https://localhost:8080/",
          "height": 112
        },
        "id": "MhC_uGvzeb_p",
        "outputId": "a542e2ba-8b4b-4748-814e-fb0771b8f57a"
      },
      "execution_count": null,
      "outputs": [
        {
          "output_type": "execute_result",
          "data": {
            "text/plain": [
              "                    lama_jam_absen  lama_pegawai_kerja\n",
              "lama_jam_absen            1.000000           -0.044202\n",
              "lama_pegawai_kerja       -0.044202            1.000000"
            ],
            "text/html": [
              "\n",
              "  <div id=\"df-350eec0a-6e10-47f9-8108-4ccf644bd043\">\n",
              "    <div class=\"colab-df-container\">\n",
              "      <div>\n",
              "<style scoped>\n",
              "    .dataframe tbody tr th:only-of-type {\n",
              "        vertical-align: middle;\n",
              "    }\n",
              "\n",
              "    .dataframe tbody tr th {\n",
              "        vertical-align: top;\n",
              "    }\n",
              "\n",
              "    .dataframe thead th {\n",
              "        text-align: right;\n",
              "    }\n",
              "</style>\n",
              "<table border=\"1\" class=\"dataframe\">\n",
              "  <thead>\n",
              "    <tr style=\"text-align: right;\">\n",
              "      <th></th>\n",
              "      <th>lama_jam_absen</th>\n",
              "      <th>lama_pegawai_kerja</th>\n",
              "    </tr>\n",
              "  </thead>\n",
              "  <tbody>\n",
              "    <tr>\n",
              "      <th>lama_jam_absen</th>\n",
              "      <td>1.000000</td>\n",
              "      <td>-0.044202</td>\n",
              "    </tr>\n",
              "    <tr>\n",
              "      <th>lama_pegawai_kerja</th>\n",
              "      <td>-0.044202</td>\n",
              "      <td>1.000000</td>\n",
              "    </tr>\n",
              "  </tbody>\n",
              "</table>\n",
              "</div>\n",
              "      <button class=\"colab-df-convert\" onclick=\"convertToInteractive('df-350eec0a-6e10-47f9-8108-4ccf644bd043')\"\n",
              "              title=\"Convert this dataframe to an interactive table.\"\n",
              "              style=\"display:none;\">\n",
              "        \n",
              "  <svg xmlns=\"http://www.w3.org/2000/svg\" height=\"24px\"viewBox=\"0 0 24 24\"\n",
              "       width=\"24px\">\n",
              "    <path d=\"M0 0h24v24H0V0z\" fill=\"none\"/>\n",
              "    <path d=\"M18.56 5.44l.94 2.06.94-2.06 2.06-.94-2.06-.94-.94-2.06-.94 2.06-2.06.94zm-11 1L8.5 8.5l.94-2.06 2.06-.94-2.06-.94L8.5 2.5l-.94 2.06-2.06.94zm10 10l.94 2.06.94-2.06 2.06-.94-2.06-.94-.94-2.06-.94 2.06-2.06.94z\"/><path d=\"M17.41 7.96l-1.37-1.37c-.4-.4-.92-.59-1.43-.59-.52 0-1.04.2-1.43.59L10.3 9.45l-7.72 7.72c-.78.78-.78 2.05 0 2.83L4 21.41c.39.39.9.59 1.41.59.51 0 1.02-.2 1.41-.59l7.78-7.78 2.81-2.81c.8-.78.8-2.07 0-2.86zM5.41 20L4 18.59l7.72-7.72 1.47 1.35L5.41 20z\"/>\n",
              "  </svg>\n",
              "      </button>\n",
              "      \n",
              "  <style>\n",
              "    .colab-df-container {\n",
              "      display:flex;\n",
              "      flex-wrap:wrap;\n",
              "      gap: 12px;\n",
              "    }\n",
              "\n",
              "    .colab-df-convert {\n",
              "      background-color: #E8F0FE;\n",
              "      border: none;\n",
              "      border-radius: 50%;\n",
              "      cursor: pointer;\n",
              "      display: none;\n",
              "      fill: #1967D2;\n",
              "      height: 32px;\n",
              "      padding: 0 0 0 0;\n",
              "      width: 32px;\n",
              "    }\n",
              "\n",
              "    .colab-df-convert:hover {\n",
              "      background-color: #E2EBFA;\n",
              "      box-shadow: 0px 1px 2px rgba(60, 64, 67, 0.3), 0px 1px 3px 1px rgba(60, 64, 67, 0.15);\n",
              "      fill: #174EA6;\n",
              "    }\n",
              "\n",
              "    [theme=dark] .colab-df-convert {\n",
              "      background-color: #3B4455;\n",
              "      fill: #D2E3FC;\n",
              "    }\n",
              "\n",
              "    [theme=dark] .colab-df-convert:hover {\n",
              "      background-color: #434B5C;\n",
              "      box-shadow: 0px 1px 3px 1px rgba(0, 0, 0, 0.15);\n",
              "      filter: drop-shadow(0px 1px 2px rgba(0, 0, 0, 0.3));\n",
              "      fill: #FFFFFF;\n",
              "    }\n",
              "  </style>\n",
              "\n",
              "      <script>\n",
              "        const buttonEl =\n",
              "          document.querySelector('#df-350eec0a-6e10-47f9-8108-4ccf644bd043 button.colab-df-convert');\n",
              "        buttonEl.style.display =\n",
              "          google.colab.kernel.accessAllowed ? 'block' : 'none';\n",
              "\n",
              "        async function convertToInteractive(key) {\n",
              "          const element = document.querySelector('#df-350eec0a-6e10-47f9-8108-4ccf644bd043');\n",
              "          const dataTable =\n",
              "            await google.colab.kernel.invokeFunction('convertToInteractive',\n",
              "                                                     [key], {});\n",
              "          if (!dataTable) return;\n",
              "\n",
              "          const docLinkHtml = 'Like what you see? Visit the ' +\n",
              "            '<a target=\"_blank\" href=https://colab.research.google.com/notebooks/data_table.ipynb>data table notebook</a>'\n",
              "            + ' to learn more about interactive tables.';\n",
              "          element.innerHTML = '';\n",
              "          dataTable['output_type'] = 'display_data';\n",
              "          await google.colab.output.renderOutput(dataTable, element);\n",
              "          const docLink = document.createElement('div');\n",
              "          docLink.innerHTML = docLinkHtml;\n",
              "          element.appendChild(docLink);\n",
              "        }\n",
              "      </script>\n",
              "    </div>\n",
              "  </div>\n",
              "  "
            ]
          },
          "metadata": {},
          "execution_count": 20
        }
      ]
    },
    {
      "cell_type": "code",
      "source": [
        "sns.scatterplot(x='lama_jam_absen', y='lama_pegawai_kerja', data=data)"
      ],
      "metadata": {
        "colab": {
          "base_uri": "https://localhost:8080/",
          "height": 298
        },
        "id": "3WaypDSTefyU",
        "outputId": "804be95c-8c4e-4fe2-c93f-a808d01aa168"
      },
      "execution_count": null,
      "outputs": [
        {
          "output_type": "execute_result",
          "data": {
            "text/plain": [
              "<matplotlib.axes._subplots.AxesSubplot at 0x7fb97be89b90>"
            ]
          },
          "metadata": {},
          "execution_count": 21
        },
        {
          "output_type": "display_data",
          "data": {
            "text/plain": [
              "<Figure size 432x288 with 1 Axes>"
            ],
            "image/png": "[encoded data removed]"
          },
          "metadata": {
            "needs_background": "light"
          }
        }
      ]
    },
    {
      "cell_type": "markdown",
      "source": [
        "## Data Preparation"
      ],
      "metadata": {
        "id": "zZLBDgzOlmsI"
      }
    },
    {
      "cell_type": "markdown",
      "source": [
        "### Outliers"
      ],
      "metadata": {
        "id": "uLfWWFoPbk28"
      }
    },
    {
      "cell_type": "code",
      "source": [
        "sns.boxplot(x='lama_jam_absen', data= data)"
      ],
      "metadata": {
        "colab": {
          "base_uri": "https://localhost:8080/",
          "height": 298
        },
        "id": "MLCNxrwIawAQ",
        "outputId": "f250d9df-bedb-46ea-f052-7e73942a9127"
      },
      "execution_count": null,
      "outputs": [
        {
          "output_type": "execute_result",
          "data": {
            "text/plain": [
              "<matplotlib.axes._subplots.AxesSubplot at 0x7fb97beae4d0>"
            ]
          },
          "metadata": {},
          "execution_count": 14
        },
        {
          "output_type": "display_data",
          "data": {
            "text/plain": [
              "<Figure size 432x288 with 1 Axes>"
            ],
            "image/png": "[encoded data removed]"
          },
          "metadata": {
            "needs_background": "light"
          }
        }
      ]
    },
    {
      "cell_type": "code",
      "source": [
        "y=data['lama_jam_absen']>210\n",
        "print(x)"
      ],
      "metadata": {
        "colab": {
          "base_uri": "https://localhost:8080/"
        },
        "id": "Xq2O2wWgddEF",
        "outputId": "d0b56c93-1058-4201-d629-a7134b24f7cd"
      },
      "execution_count": null,
      "outputs": [
        {
          "output_type": "stream",
          "name": "stdout",
          "text": [
            "0       False\n",
            "1       False\n",
            "2       False\n",
            "3       False\n",
            "4       False\n",
            "        ...  \n",
            "8331    False\n",
            "8332    False\n",
            "8333    False\n",
            "8334    False\n",
            "8335    False\n",
            "Name: lama_pegawai_kerja, Length: 8336, dtype: bool\n"
          ]
        }
      ]
    },
    {
      "cell_type": "code",
      "source": [
        "sns.boxplot(x='lama_pegawai_kerja', data= data)"
      ],
      "metadata": {
        "colab": {
          "base_uri": "https://localhost:8080/",
          "height": 298
        },
        "id": "JuVDZbnccafN",
        "outputId": "187435da-b341-49f7-904c-3089bb00a187"
      },
      "execution_count": null,
      "outputs": [
        {
          "output_type": "execute_result",
          "data": {
            "text/plain": [
              "<matplotlib.axes._subplots.AxesSubplot at 0x7fb975328890>"
            ]
          },
          "metadata": {},
          "execution_count": 41
        },
        {
          "output_type": "display_data",
          "data": {
            "text/plain": [
              "<Figure size 432x288 with 1 Axes>"
            ],
            "image/png": "[encoded data removed]"
          },
          "metadata": {
            "needs_background": "light"
          }
        }
      ]
    },
    {
      "cell_type": "code",
      "source": [
        "x=data['lama_pegawai_kerja']>20\n",
        "print(x)"
      ],
      "metadata": {
        "colab": {
          "base_uri": "https://localhost:8080/"
        },
        "id": "EG6_kLABckqW",
        "outputId": "86dcefdc-72e8-4640-ba84-2eca1d8888fb"
      },
      "execution_count": null,
      "outputs": [
        {
          "output_type": "stream",
          "name": "stdout",
          "text": [
            "0       False\n",
            "1       False\n",
            "2       False\n",
            "3       False\n",
            "4       False\n",
            "        ...  \n",
            "8331    False\n",
            "8332    False\n",
            "8333    False\n",
            "8334    False\n",
            "8335    False\n",
            "Name: lama_pegawai_kerja, Length: 8336, dtype: bool\n"
          ]
        }
      ]
    },
    {
      "cell_type": "markdown",
      "source": [
        "### K-Means"
      ],
      "metadata": {
        "id": "VLyPILZn6HZD"
      }
    },
    {
      "cell_type": "code",
      "source": [
        "#Pemilihan 2 fitur pembuatan model\n",
        "data2=data.iloc[:, [6,7]].values"
      ],
      "metadata": {
        "id": "ZoMjPXVnewGk"
      },
      "execution_count": 58,
      "outputs": []
    },
    {
      "cell_type": "code",
      "source": [
        "#Library for k-means\n",
        "from sklearn.cluster import KMeans\n",
        "wcss=[]"
      ],
      "metadata": {
        "id": "0aqzFVlbfCTm"
      },
      "execution_count": 59,
      "outputs": []
    },
    {
      "cell_type": "code",
      "source": [
        "for i in range(1,11):\n",
        "    kmeans = KMeans(n_clusters= i, init='k-means++', random_state=0)\n",
        "    kmeans.fit(data2)\n",
        "    wcss.append(kmeans.inertia_)"
      ],
      "metadata": {
        "id": "LipAk0UofUGI"
      },
      "execution_count": 60,
      "outputs": []
    },
    {
      "cell_type": "code",
      "source": [
        "plt.plot(range(1,11), wcss)\n",
        "plt.title('The Elbow Method')\n",
        "plt.xlabel('lama pegawai kerja')\n",
        "plt.ylabel('wcss')\n",
        "plt.show()"
      ],
      "metadata": {
        "colab": {
          "base_uri": "https://localhost:8080/",
          "height": 295
        },
        "id": "0tGcMC6VfWXF",
        "outputId": "e199d613-46b5-4d8f-a28b-a9cd640784a3"
      },
      "execution_count": 61,
      "outputs": [
        {
          "output_type": "display_data",
          "data": {
            "text/plain": [
              "<Figure size 432x288 with 1 Axes>"
            ],
            "image/png": "[encoded data removed]"
          },
          "metadata": {
            "needs_background": "light"
          }
        }
      ]
    },
    {
      "cell_type": "code",
      "source": [
        "kmeansmodel = KMeans(n_clusters= 4, init='k-means++', random_state=0)\n",
        "y_kmeans= kmeansmodel.fit_predict(data2)"
      ],
      "metadata": {
        "id": "-CC4s_FmflgG"
      },
      "execution_count": null,
      "outputs": []
    },
    {
      "cell_type": "code",
      "source": [
        "plt.scatter(data2[y_kmeans == 0, 0], data2[y_kmeans == 0, 1], s = 100, c = 'red', label = 'Cluster 1')\n",
        "plt.scatter(data2[y_kmeans == 1, 0], data2[y_kmeans == 1, 1], s = 100, c = 'blue', label = 'Cluster 2')\n",
        "plt.scatter(data2[y_kmeans == 2, 0], data2[y_kmeans == 2, 1], s = 100, c = 'green', label = 'Cluster 3')\n",
        "plt.scatter(data2[y_kmeans == 3, 0], data2[y_kmeans == 3, 1], s = 100, c = 'cyan', label = 'Cluster 4')\n",
        "plt.scatter(kmeans.cluster_centers_[:, 0], kmeans.cluster_centers_[:, 1], s = 300, c = 'yellow', label = 'Centroids')\n",
        "plt.title('Kluster Pegawai LOOK')\n",
        "plt.xlabel('lama pegawai kerja')\n",
        "plt.ylabel('lama jam absen')\n",
        "plt.legend()\n",
        "plt.show()"
      ],
      "metadata": {
        "colab": {
          "base_uri": "https://localhost:8080/",
          "height": 295
        },
        "id": "XNzZzBW4f2l-",
        "outputId": "90fa643d-5dd9-48e9-a59e-7fdce7d247eb"
      },
      "execution_count": null,
      "outputs": [
        {
          "output_type": "display_data",
          "data": {
            "text/plain": [
              "<Figure size 432x288 with 1 Axes>"
            ],
            "image/png": "[encoded data removed]"
          },
          "metadata": {
            "needs_background": "light"
          }
        }
      ]
    },
    {
      "cell_type": "code",
      "source": [
        ""
      ],
      "metadata": {
        "id": "NXZD-oFkgnhx"
      },
      "execution_count": null,
      "outputs": []
    }
  ]
}